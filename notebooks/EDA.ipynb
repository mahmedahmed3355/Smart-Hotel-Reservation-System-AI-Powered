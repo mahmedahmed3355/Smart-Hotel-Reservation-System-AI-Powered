{
 "cells": [
  {
   "cell_type": "code",
   "execution_count": 14,
   "id": "1e446216",
   "metadata": {},
   "outputs": [
    {
     "name": "stdout",
     "output_type": "stream",
     "text": [
      "✅ Connected successfully to hotel_booking_db\n"
     ]
    }
   ],
   "source": [
    "import psycopg2\n",
    "DB_HOST = \"localhost\"\n",
    "DB_PORT = \"5432\"\n",
    "DB_NAME = \"hotel_booking_db\"\n",
    "DB_USER = \"hotel_admin\"\n",
    "DB_PASSWORD = \"P@$$w0rd\"\n",
    "try:\n",
    "    conn = psycopg2.connect(\n",
    "        host=DB_HOST,\n",
    "        port=DB_PORT,\n",
    "        database=DB_NAME,\n",
    "        user=DB_USER,\n",
    "        password=DB_PASSWORD\n",
    "    )\n",
    "    print(\"✅ Connected successfully to hotel_booking_db\")\n",
    "    conn.close()\n",
    "except Exception as e:\n",
    "    print(f\"❌ Connection failed: {e}\")\n"
   ]
  },
  {
   "cell_type": "code",
   "execution_count": 21,
   "id": "8fdf262d",
   "metadata": {},
   "outputs": [
    {
     "name": "stdout",
     "output_type": "stream",
     "text": [
      "Index(['booking_id', 'no_of_adults', 'no_of_children', 'no_of_weekend_nights',\n",
      "       'no_of_week_nights', 'type_of_meal_plan', 'required_car_parking_space',\n",
      "       'room_type_reserved', 'lead_time', 'arrival_year', 'arrival_month',\n",
      "       'arrival_date', 'market_segment_type', 'repeated_guest',\n",
      "       'no_of_previous_cancellations', 'no_of_previous_bookings_not_canceled',\n",
      "       'avg_price_per_room', 'no_of_special_requests', 'booking_status'],\n",
      "      dtype='object')\n",
      "✅ Data inserted successfully!\n"
     ]
    }
   ],
   "source": [
    "import pandas as pd\n",
    "from sqlalchemy import create_engine\n",
    "from urllib.parse import quote_plus\n",
    "\n",
    "# read CSV\n",
    "csv_file = \"/home/mohamed/Desktop/Smart Hotl reservation System/hotel_booking_pipeline/data/Hotel Reservations.csv\"\n",
    "df = pd.read_csv(csv_file)\n",
    "\n",
    "# normalize column names to match PostgreSQL (lowercase + underscores)\n",
    "df.columns = [c.strip().lower() for c in df.columns]\n",
    "\n",
    "print(df.columns)  # شوف النتيجة واتأكد إنها زي أعمدة الجدول\n",
    "\n",
    "# insert into table\n",
    "df.to_sql(\"hotel_reservations\", con=engine, if_exists=\"append\", index=False)\n",
    "print(\"✅ Data inserted successfully!\")\n"
   ]
  },
  {
   "cell_type": "code",
   "execution_count": 22,
   "id": "eccc3d45",
   "metadata": {},
   "outputs": [
    {
     "ename": "ProgrammingError",
     "evalue": "(psycopg2.errors.UndefinedColumn) column \"Booking_ID\" of relation \"hotel_reservations\" does not exist\nLINE 1: INSERT INTO hotel_reservations (\"Booking_ID\", no_of_adults, ...\n                                        ^\n\n[SQL: INSERT INTO hotel_reservations (\"Booking_ID\", no_of_adults, no_of_children, no_of_weekend_nights, no_of_week_nights, type_of_meal_plan, required_car_parking_space, room_type_reserved, lead_time, arrival_year, arrival_month, arrival_date, market_segme ... 539968 characters truncated ... celed__999)s, %(avg_price_per_room__999)s, %(no_of_special_requests__999)s, %(booking_status__999)s)]\n[parameters: {'type_of_meal_plan__0': 'Meal Plan 1', 'no_of_children__0': 0, 'no_of_previous_cancellations__0': 0, 'room_type_reserved__0': 'Room_Type 1', 'market_segment_type__0': 'Offline', 'arrival_month__0': 10, 'no_of_adults__0': 2, 'repeated_guest__0': 0, 'no_of_previous_bookings_not_canceled__0': 0, 'no_of_weekend_nights__0': 1, 'arrival_date__0': 2, 'no_of_week_nights__0': 2, 'Booking_ID__0': 'INN00001', 'avg_price_per_room__0': 65.0, 'required_car_parking_space__0': 0, 'arrival_year__0': 2017, 'booking_status__0': 'Not_Canceled', 'no_of_special_requests__0': 0, 'lead_time__0': 224, 'type_of_meal_plan__1': 'Not Selected', 'no_of_children__1': 0, 'no_of_previous_cancellations__1': 0, 'room_type_reserved__1': 'Room_Type 1', 'market_segment_type__1': 'Online', 'arrival_month__1': 11, 'no_of_adults__1': 2, 'repeated_guest__1': 0, 'no_of_previous_bookings_not_canceled__1': 0, 'no_of_weekend_nights__1': 2, 'arrival_date__1': 6, 'no_of_week_nights__1': 3, 'Booking_ID__1': 'INN00002', 'avg_price_per_room__1': 106.68, 'required_car_parking_space__1': 0, 'arrival_year__1': 2018, 'booking_status__1': 'Not_Canceled', 'no_of_special_requests__1': 1, 'lead_time__1': 5, 'type_of_meal_plan__2': 'Meal Plan 1', 'no_of_children__2': 0, 'no_of_previous_cancellations__2': 0, 'room_type_reserved__2': 'Room_Type 1', 'market_segment_type__2': 'Online', 'arrival_month__2': 2, 'no_of_adults__2': 1, 'repeated_guest__2': 0, 'no_of_previous_bookings_not_canceled__2': 0, 'no_of_weekend_nights__2': 2, 'arrival_date__2': 28, 'no_of_week_nights__2': 1 ... 18900 parameters truncated ... 'repeated_guest__997': 0, 'no_of_previous_bookings_not_canceled__997': 0, 'no_of_weekend_nights__997': 0, 'arrival_date__997': 22, 'no_of_week_nights__997': 1, 'Booking_ID__997': 'INN00998', 'avg_price_per_room__997': 86.4, 'required_car_parking_space__997': 0, 'arrival_year__997': 2018, 'booking_status__997': 'Not_Canceled', 'no_of_special_requests__997': 1, 'lead_time__997': 79, 'type_of_meal_plan__998': 'Not Selected', 'no_of_children__998': 0, 'no_of_previous_cancellations__998': 0, 'room_type_reserved__998': 'Room_Type 1', 'market_segment_type__998': 'Online', 'arrival_month__998': 9, 'no_of_adults__998': 2, 'repeated_guest__998': 0, 'no_of_previous_bookings_not_canceled__998': 0, 'no_of_weekend_nights__998': 2, 'arrival_date__998': 19, 'no_of_week_nights__998': 3, 'Booking_ID__998': 'INN00999', 'avg_price_per_room__998': 66.53, 'required_car_parking_space__998': 0, 'arrival_year__998': 2017, 'booking_status__998': 'Not_Canceled', 'no_of_special_requests__998': 1, 'lead_time__998': 57, 'type_of_meal_plan__999': 'Meal Plan 1', 'no_of_children__999': 0, 'no_of_previous_cancellations__999': 0, 'room_type_reserved__999': 'Room_Type 1', 'market_segment_type__999': 'Online', 'arrival_month__999': 1, 'no_of_adults__999': 2, 'repeated_guest__999': 0, 'no_of_previous_bookings_not_canceled__999': 0, 'no_of_weekend_nights__999': 2, 'arrival_date__999': 8, 'no_of_week_nights__999': 5, 'Booking_ID__999': 'INN01000', 'avg_price_per_room__999': 79.54, 'required_car_parking_space__999': 0, 'arrival_year__999': 2018, 'booking_status__999': 'Not_Canceled', 'no_of_special_requests__999': 1, 'lead_time__999': 29}]\n(Background on this error at: https://sqlalche.me/e/20/f405)",
     "output_type": "error",
     "traceback": [
      "\u001b[31m---------------------------------------------------------------------------\u001b[39m",
      "\u001b[31mUndefinedColumn\u001b[39m                           Traceback (most recent call last)",
      "\u001b[36mFile \u001b[39m\u001b[32m~/Desktop/Smart Hotl reservation System/hotel_booking_pipeline/venv/lib/python3.12/site-packages/sqlalchemy/engine/base.py:2118\u001b[39m, in \u001b[36mConnection._exec_insertmany_context\u001b[39m\u001b[34m(self, dialect, context)\u001b[39m\n\u001b[32m   2117\u001b[39m     \u001b[38;5;28;01melse\u001b[39;00m:\n\u001b[32m-> \u001b[39m\u001b[32m2118\u001b[39m         \u001b[43mdialect\u001b[49m\u001b[43m.\u001b[49m\u001b[43mdo_execute\u001b[49m\u001b[43m(\u001b[49m\n\u001b[32m   2119\u001b[39m \u001b[43m            \u001b[49m\u001b[43mcursor\u001b[49m\u001b[43m,\u001b[49m\n\u001b[32m   2120\u001b[39m \u001b[43m            \u001b[49m\u001b[43msub_stmt\u001b[49m\u001b[43m,\u001b[49m\n\u001b[32m   2121\u001b[39m \u001b[43m            \u001b[49m\u001b[43msub_params\u001b[49m\u001b[43m,\u001b[49m\n\u001b[32m   2122\u001b[39m \u001b[43m            \u001b[49m\u001b[43mcontext\u001b[49m\u001b[43m,\u001b[49m\n\u001b[32m   2123\u001b[39m \u001b[43m        \u001b[49m\u001b[43m)\u001b[49m\n\u001b[32m   2125\u001b[39m \u001b[38;5;28;01mexcept\u001b[39;00m \u001b[38;5;167;01mBaseException\u001b[39;00m \u001b[38;5;28;01mas\u001b[39;00m e:\n",
      "\u001b[36mFile \u001b[39m\u001b[32m~/Desktop/Smart Hotl reservation System/hotel_booking_pipeline/venv/lib/python3.12/site-packages/sqlalchemy/engine/default.py:951\u001b[39m, in \u001b[36mDefaultDialect.do_execute\u001b[39m\u001b[34m(self, cursor, statement, parameters, context)\u001b[39m\n\u001b[32m    950\u001b[39m \u001b[38;5;28;01mdef\u001b[39;00m\u001b[38;5;250m \u001b[39m\u001b[34mdo_execute\u001b[39m(\u001b[38;5;28mself\u001b[39m, cursor, statement, parameters, context=\u001b[38;5;28;01mNone\u001b[39;00m):\n\u001b[32m--> \u001b[39m\u001b[32m951\u001b[39m     \u001b[43mcursor\u001b[49m\u001b[43m.\u001b[49m\u001b[43mexecute\u001b[49m\u001b[43m(\u001b[49m\u001b[43mstatement\u001b[49m\u001b[43m,\u001b[49m\u001b[43m \u001b[49m\u001b[43mparameters\u001b[49m\u001b[43m)\u001b[49m\n",
      "\u001b[31mUndefinedColumn\u001b[39m: column \"Booking_ID\" of relation \"hotel_reservations\" does not exist\nLINE 1: INSERT INTO hotel_reservations (\"Booking_ID\", no_of_adults, ...\n                                        ^\n",
      "\nThe above exception was the direct cause of the following exception:\n",
      "\u001b[31mProgrammingError\u001b[39m                          Traceback (most recent call last)",
      "\u001b[36mCell\u001b[39m\u001b[36m \u001b[39m\u001b[32mIn[22]\u001b[39m\u001b[32m, line 17\u001b[39m\n\u001b[32m     14\u001b[39m csv_file = \u001b[33m\"\u001b[39m\u001b[33m/home/mohamed/Desktop/Smart Hotl reservation System/hotel_booking_pipeline/data/Hotel Reservations.csv\u001b[39m\u001b[33m\"\u001b[39m\n\u001b[32m     15\u001b[39m df = pd.read_csv(csv_file)\n\u001b[32m---> \u001b[39m\u001b[32m17\u001b[39m \u001b[43mdf\u001b[49m\u001b[43m.\u001b[49m\u001b[43mto_sql\u001b[49m\u001b[43m(\u001b[49m\u001b[33;43m\"\u001b[39;49m\u001b[33;43mhotel_reservations\u001b[39;49m\u001b[33;43m\"\u001b[39;49m\u001b[43m,\u001b[49m\u001b[43m \u001b[49m\u001b[43mcon\u001b[49m\u001b[43m=\u001b[49m\u001b[43mengine\u001b[49m\u001b[43m,\u001b[49m\u001b[43m \u001b[49m\u001b[43mif_exists\u001b[49m\u001b[43m=\u001b[49m\u001b[33;43m\"\u001b[39;49m\u001b[33;43mappend\u001b[39;49m\u001b[33;43m\"\u001b[39;49m\u001b[43m,\u001b[49m\u001b[43m \u001b[49m\u001b[43mindex\u001b[49m\u001b[43m=\u001b[49m\u001b[38;5;28;43;01mFalse\u001b[39;49;00m\u001b[43m)\u001b[49m\n\u001b[32m     18\u001b[39m \u001b[38;5;28mprint\u001b[39m(\u001b[33m\"\u001b[39m\u001b[33m✅ Data inserted successfully!\u001b[39m\u001b[33m\"\u001b[39m)\n",
      "\u001b[36mFile \u001b[39m\u001b[32m~/Desktop/Smart Hotl reservation System/hotel_booking_pipeline/venv/lib/python3.12/site-packages/pandas/util/_decorators.py:333\u001b[39m, in \u001b[36mdeprecate_nonkeyword_arguments.<locals>.decorate.<locals>.wrapper\u001b[39m\u001b[34m(*args, **kwargs)\u001b[39m\n\u001b[32m    327\u001b[39m \u001b[38;5;28;01mif\u001b[39;00m \u001b[38;5;28mlen\u001b[39m(args) > num_allow_args:\n\u001b[32m    328\u001b[39m     warnings.warn(\n\u001b[32m    329\u001b[39m         msg.format(arguments=_format_argument_list(allow_args)),\n\u001b[32m    330\u001b[39m         \u001b[38;5;167;01mFutureWarning\u001b[39;00m,\n\u001b[32m    331\u001b[39m         stacklevel=find_stack_level(),\n\u001b[32m    332\u001b[39m     )\n\u001b[32m--> \u001b[39m\u001b[32m333\u001b[39m \u001b[38;5;28;01mreturn\u001b[39;00m \u001b[43mfunc\u001b[49m\u001b[43m(\u001b[49m\u001b[43m*\u001b[49m\u001b[43margs\u001b[49m\u001b[43m,\u001b[49m\u001b[43m \u001b[49m\u001b[43m*\u001b[49m\u001b[43m*\u001b[49m\u001b[43mkwargs\u001b[49m\u001b[43m)\u001b[49m\n",
      "\u001b[36mFile \u001b[39m\u001b[32m~/Desktop/Smart Hotl reservation System/hotel_booking_pipeline/venv/lib/python3.12/site-packages/pandas/core/generic.py:3106\u001b[39m, in \u001b[36mNDFrame.to_sql\u001b[39m\u001b[34m(self, name, con, schema, if_exists, index, index_label, chunksize, dtype, method)\u001b[39m\n\u001b[32m   2908\u001b[39m \u001b[38;5;250m\u001b[39m\u001b[33;03m\"\"\"\u001b[39;00m\n\u001b[32m   2909\u001b[39m \u001b[33;03mWrite records stored in a DataFrame to a SQL database.\u001b[39;00m\n\u001b[32m   2910\u001b[39m \n\u001b[32m   (...)\u001b[39m\u001b[32m   3102\u001b[39m \u001b[33;03m[(1,), (None,), (2,)]\u001b[39;00m\n\u001b[32m   3103\u001b[39m \u001b[33;03m\"\"\"\u001b[39;00m  \u001b[38;5;66;03m# noqa: E501\u001b[39;00m\n\u001b[32m   3104\u001b[39m \u001b[38;5;28;01mfrom\u001b[39;00m\u001b[38;5;250m \u001b[39m\u001b[34;01mpandas\u001b[39;00m\u001b[34;01m.\u001b[39;00m\u001b[34;01mio\u001b[39;00m\u001b[38;5;250m \u001b[39m\u001b[38;5;28;01mimport\u001b[39;00m sql\n\u001b[32m-> \u001b[39m\u001b[32m3106\u001b[39m \u001b[38;5;28;01mreturn\u001b[39;00m \u001b[43msql\u001b[49m\u001b[43m.\u001b[49m\u001b[43mto_sql\u001b[49m\u001b[43m(\u001b[49m\n\u001b[32m   3107\u001b[39m \u001b[43m    \u001b[49m\u001b[38;5;28;43mself\u001b[39;49m\u001b[43m,\u001b[49m\n\u001b[32m   3108\u001b[39m \u001b[43m    \u001b[49m\u001b[43mname\u001b[49m\u001b[43m,\u001b[49m\n\u001b[32m   3109\u001b[39m \u001b[43m    \u001b[49m\u001b[43mcon\u001b[49m\u001b[43m,\u001b[49m\n\u001b[32m   3110\u001b[39m \u001b[43m    \u001b[49m\u001b[43mschema\u001b[49m\u001b[43m=\u001b[49m\u001b[43mschema\u001b[49m\u001b[43m,\u001b[49m\n\u001b[32m   3111\u001b[39m \u001b[43m    \u001b[49m\u001b[43mif_exists\u001b[49m\u001b[43m=\u001b[49m\u001b[43mif_exists\u001b[49m\u001b[43m,\u001b[49m\n\u001b[32m   3112\u001b[39m \u001b[43m    \u001b[49m\u001b[43mindex\u001b[49m\u001b[43m=\u001b[49m\u001b[43mindex\u001b[49m\u001b[43m,\u001b[49m\n\u001b[32m   3113\u001b[39m \u001b[43m    \u001b[49m\u001b[43mindex_label\u001b[49m\u001b[43m=\u001b[49m\u001b[43mindex_label\u001b[49m\u001b[43m,\u001b[49m\n\u001b[32m   3114\u001b[39m \u001b[43m    \u001b[49m\u001b[43mchunksize\u001b[49m\u001b[43m=\u001b[49m\u001b[43mchunksize\u001b[49m\u001b[43m,\u001b[49m\n\u001b[32m   3115\u001b[39m \u001b[43m    \u001b[49m\u001b[43mdtype\u001b[49m\u001b[43m=\u001b[49m\u001b[43mdtype\u001b[49m\u001b[43m,\u001b[49m\n\u001b[32m   3116\u001b[39m \u001b[43m    \u001b[49m\u001b[43mmethod\u001b[49m\u001b[43m=\u001b[49m\u001b[43mmethod\u001b[49m\u001b[43m,\u001b[49m\n\u001b[32m   3117\u001b[39m \u001b[43m\u001b[49m\u001b[43m)\u001b[49m\n",
      "\u001b[36mFile \u001b[39m\u001b[32m~/Desktop/Smart Hotl reservation System/hotel_booking_pipeline/venv/lib/python3.12/site-packages/pandas/io/sql.py:844\u001b[39m, in \u001b[36mto_sql\u001b[39m\u001b[34m(frame, name, con, schema, if_exists, index, index_label, chunksize, dtype, method, engine, **engine_kwargs)\u001b[39m\n\u001b[32m    839\u001b[39m     \u001b[38;5;28;01mraise\u001b[39;00m \u001b[38;5;167;01mNotImplementedError\u001b[39;00m(\n\u001b[32m    840\u001b[39m         \u001b[33m\"\u001b[39m\u001b[33m'\u001b[39m\u001b[33mframe\u001b[39m\u001b[33m'\u001b[39m\u001b[33m argument should be either a Series or a DataFrame\u001b[39m\u001b[33m\"\u001b[39m\n\u001b[32m    841\u001b[39m     )\n\u001b[32m    843\u001b[39m \u001b[38;5;28;01mwith\u001b[39;00m pandasSQL_builder(con, schema=schema, need_transaction=\u001b[38;5;28;01mTrue\u001b[39;00m) \u001b[38;5;28;01mas\u001b[39;00m pandas_sql:\n\u001b[32m--> \u001b[39m\u001b[32m844\u001b[39m     \u001b[38;5;28;01mreturn\u001b[39;00m \u001b[43mpandas_sql\u001b[49m\u001b[43m.\u001b[49m\u001b[43mto_sql\u001b[49m\u001b[43m(\u001b[49m\n\u001b[32m    845\u001b[39m \u001b[43m        \u001b[49m\u001b[43mframe\u001b[49m\u001b[43m,\u001b[49m\n\u001b[32m    846\u001b[39m \u001b[43m        \u001b[49m\u001b[43mname\u001b[49m\u001b[43m,\u001b[49m\n\u001b[32m    847\u001b[39m \u001b[43m        \u001b[49m\u001b[43mif_exists\u001b[49m\u001b[43m=\u001b[49m\u001b[43mif_exists\u001b[49m\u001b[43m,\u001b[49m\n\u001b[32m    848\u001b[39m \u001b[43m        \u001b[49m\u001b[43mindex\u001b[49m\u001b[43m=\u001b[49m\u001b[43mindex\u001b[49m\u001b[43m,\u001b[49m\n\u001b[32m    849\u001b[39m \u001b[43m        \u001b[49m\u001b[43mindex_label\u001b[49m\u001b[43m=\u001b[49m\u001b[43mindex_label\u001b[49m\u001b[43m,\u001b[49m\n\u001b[32m    850\u001b[39m \u001b[43m        \u001b[49m\u001b[43mschema\u001b[49m\u001b[43m=\u001b[49m\u001b[43mschema\u001b[49m\u001b[43m,\u001b[49m\n\u001b[32m    851\u001b[39m \u001b[43m        \u001b[49m\u001b[43mchunksize\u001b[49m\u001b[43m=\u001b[49m\u001b[43mchunksize\u001b[49m\u001b[43m,\u001b[49m\n\u001b[32m    852\u001b[39m \u001b[43m        \u001b[49m\u001b[43mdtype\u001b[49m\u001b[43m=\u001b[49m\u001b[43mdtype\u001b[49m\u001b[43m,\u001b[49m\n\u001b[32m    853\u001b[39m \u001b[43m        \u001b[49m\u001b[43mmethod\u001b[49m\u001b[43m=\u001b[49m\u001b[43mmethod\u001b[49m\u001b[43m,\u001b[49m\n\u001b[32m    854\u001b[39m \u001b[43m        \u001b[49m\u001b[43mengine\u001b[49m\u001b[43m=\u001b[49m\u001b[43mengine\u001b[49m\u001b[43m,\u001b[49m\n\u001b[32m    855\u001b[39m \u001b[43m        \u001b[49m\u001b[43m*\u001b[49m\u001b[43m*\u001b[49m\u001b[43mengine_kwargs\u001b[49m\u001b[43m,\u001b[49m\n\u001b[32m    856\u001b[39m \u001b[43m    \u001b[49m\u001b[43m)\u001b[49m\n",
      "\u001b[36mFile \u001b[39m\u001b[32m~/Desktop/Smart Hotl reservation System/hotel_booking_pipeline/venv/lib/python3.12/site-packages/pandas/io/sql.py:2030\u001b[39m, in \u001b[36mSQLDatabase.to_sql\u001b[39m\u001b[34m(self, frame, name, if_exists, index, index_label, schema, chunksize, dtype, method, engine, **engine_kwargs)\u001b[39m\n\u001b[32m   2018\u001b[39m sql_engine = get_engine(engine)\n\u001b[32m   2020\u001b[39m table = \u001b[38;5;28mself\u001b[39m.prep_table(\n\u001b[32m   2021\u001b[39m     frame=frame,\n\u001b[32m   2022\u001b[39m     name=name,\n\u001b[32m   (...)\u001b[39m\u001b[32m   2027\u001b[39m     dtype=dtype,\n\u001b[32m   2028\u001b[39m )\n\u001b[32m-> \u001b[39m\u001b[32m2030\u001b[39m total_inserted = \u001b[43msql_engine\u001b[49m\u001b[43m.\u001b[49m\u001b[43minsert_records\u001b[49m\u001b[43m(\u001b[49m\n\u001b[32m   2031\u001b[39m \u001b[43m    \u001b[49m\u001b[43mtable\u001b[49m\u001b[43m=\u001b[49m\u001b[43mtable\u001b[49m\u001b[43m,\u001b[49m\n\u001b[32m   2032\u001b[39m \u001b[43m    \u001b[49m\u001b[43mcon\u001b[49m\u001b[43m=\u001b[49m\u001b[38;5;28;43mself\u001b[39;49m\u001b[43m.\u001b[49m\u001b[43mcon\u001b[49m\u001b[43m,\u001b[49m\n\u001b[32m   2033\u001b[39m \u001b[43m    \u001b[49m\u001b[43mframe\u001b[49m\u001b[43m=\u001b[49m\u001b[43mframe\u001b[49m\u001b[43m,\u001b[49m\n\u001b[32m   2034\u001b[39m \u001b[43m    \u001b[49m\u001b[43mname\u001b[49m\u001b[43m=\u001b[49m\u001b[43mname\u001b[49m\u001b[43m,\u001b[49m\n\u001b[32m   2035\u001b[39m \u001b[43m    \u001b[49m\u001b[43mindex\u001b[49m\u001b[43m=\u001b[49m\u001b[43mindex\u001b[49m\u001b[43m,\u001b[49m\n\u001b[32m   2036\u001b[39m \u001b[43m    \u001b[49m\u001b[43mschema\u001b[49m\u001b[43m=\u001b[49m\u001b[43mschema\u001b[49m\u001b[43m,\u001b[49m\n\u001b[32m   2037\u001b[39m \u001b[43m    \u001b[49m\u001b[43mchunksize\u001b[49m\u001b[43m=\u001b[49m\u001b[43mchunksize\u001b[49m\u001b[43m,\u001b[49m\n\u001b[32m   2038\u001b[39m \u001b[43m    \u001b[49m\u001b[43mmethod\u001b[49m\u001b[43m=\u001b[49m\u001b[43mmethod\u001b[49m\u001b[43m,\u001b[49m\n\u001b[32m   2039\u001b[39m \u001b[43m    \u001b[49m\u001b[43m*\u001b[49m\u001b[43m*\u001b[49m\u001b[43mengine_kwargs\u001b[49m\u001b[43m,\u001b[49m\n\u001b[32m   2040\u001b[39m \u001b[43m\u001b[49m\u001b[43m)\u001b[49m\n\u001b[32m   2042\u001b[39m \u001b[38;5;28mself\u001b[39m.check_case_sensitive(name=name, schema=schema)\n\u001b[32m   2043\u001b[39m \u001b[38;5;28;01mreturn\u001b[39;00m total_inserted\n",
      "\u001b[36mFile \u001b[39m\u001b[32m~/Desktop/Smart Hotl reservation System/hotel_booking_pipeline/venv/lib/python3.12/site-packages/pandas/io/sql.py:1579\u001b[39m, in \u001b[36mSQLAlchemyEngine.insert_records\u001b[39m\u001b[34m(self, table, con, frame, name, index, schema, chunksize, method, **engine_kwargs)\u001b[39m\n\u001b[32m   1577\u001b[39m \u001b[38;5;28;01mif\u001b[39;00m re.search(msg, err_text):\n\u001b[32m   1578\u001b[39m     \u001b[38;5;28;01mraise\u001b[39;00m \u001b[38;5;167;01mValueError\u001b[39;00m(\u001b[33m\"\u001b[39m\u001b[33minf cannot be used with MySQL\u001b[39m\u001b[33m\"\u001b[39m) \u001b[38;5;28;01mfrom\u001b[39;00m\u001b[38;5;250m \u001b[39m\u001b[34;01merr\u001b[39;00m\n\u001b[32m-> \u001b[39m\u001b[32m1579\u001b[39m \u001b[38;5;28;01mraise\u001b[39;00m err\n",
      "\u001b[36mFile \u001b[39m\u001b[32m~/Desktop/Smart Hotl reservation System/hotel_booking_pipeline/venv/lib/python3.12/site-packages/pandas/io/sql.py:1570\u001b[39m, in \u001b[36mSQLAlchemyEngine.insert_records\u001b[39m\u001b[34m(self, table, con, frame, name, index, schema, chunksize, method, **engine_kwargs)\u001b[39m\n\u001b[32m   1567\u001b[39m \u001b[38;5;28;01mfrom\u001b[39;00m\u001b[38;5;250m \u001b[39m\u001b[34;01msqlalchemy\u001b[39;00m\u001b[38;5;250m \u001b[39m\u001b[38;5;28;01mimport\u001b[39;00m exc\n\u001b[32m   1569\u001b[39m \u001b[38;5;28;01mtry\u001b[39;00m:\n\u001b[32m-> \u001b[39m\u001b[32m1570\u001b[39m     \u001b[38;5;28;01mreturn\u001b[39;00m \u001b[43mtable\u001b[49m\u001b[43m.\u001b[49m\u001b[43minsert\u001b[49m\u001b[43m(\u001b[49m\u001b[43mchunksize\u001b[49m\u001b[43m=\u001b[49m\u001b[43mchunksize\u001b[49m\u001b[43m,\u001b[49m\u001b[43m \u001b[49m\u001b[43mmethod\u001b[49m\u001b[43m=\u001b[49m\u001b[43mmethod\u001b[49m\u001b[43m)\u001b[49m\n\u001b[32m   1571\u001b[39m \u001b[38;5;28;01mexcept\u001b[39;00m exc.StatementError \u001b[38;5;28;01mas\u001b[39;00m err:\n\u001b[32m   1572\u001b[39m     \u001b[38;5;66;03m# GH34431\u001b[39;00m\n\u001b[32m   1573\u001b[39m     \u001b[38;5;66;03m# https://stackoverflow.com/a/67358288/6067848\u001b[39;00m\n\u001b[32m   1574\u001b[39m     msg = \u001b[33mr\u001b[39m\u001b[33m\"\"\"\u001b[39m\u001b[33m(\u001b[39m\u001b[33m\\\u001b[39m\u001b[33m(1054, \u001b[39m\u001b[33m\"\u001b[39m\u001b[33mUnknown column \u001b[39m\u001b[33m'\u001b[39m\u001b[33minf(e0)?\u001b[39m\u001b[33m'\u001b[39m\u001b[33m in \u001b[39m\u001b[33m'\u001b[39m\u001b[33mfield list\u001b[39m\u001b[33m'\u001b[39m\u001b[33m\"\u001b[39m\u001b[33m\\\u001b[39m\u001b[33m))(?#\u001b[39m\n\u001b[32m   1575\u001b[39m \u001b[33m    )|inf can not be used with MySQL\u001b[39m\u001b[33m\"\"\"\u001b[39m\n",
      "\u001b[36mFile \u001b[39m\u001b[32m~/Desktop/Smart Hotl reservation System/hotel_booking_pipeline/venv/lib/python3.12/site-packages/pandas/io/sql.py:1121\u001b[39m, in \u001b[36mSQLTable.insert\u001b[39m\u001b[34m(self, chunksize, method)\u001b[39m\n\u001b[32m   1118\u001b[39m     \u001b[38;5;28;01mbreak\u001b[39;00m\n\u001b[32m   1120\u001b[39m chunk_iter = \u001b[38;5;28mzip\u001b[39m(*(arr[start_i:end_i] \u001b[38;5;28;01mfor\u001b[39;00m arr \u001b[38;5;129;01min\u001b[39;00m data_list))\n\u001b[32m-> \u001b[39m\u001b[32m1121\u001b[39m num_inserted = \u001b[43mexec_insert\u001b[49m\u001b[43m(\u001b[49m\u001b[43mconn\u001b[49m\u001b[43m,\u001b[49m\u001b[43m \u001b[49m\u001b[43mkeys\u001b[49m\u001b[43m,\u001b[49m\u001b[43m \u001b[49m\u001b[43mchunk_iter\u001b[49m\u001b[43m)\u001b[49m\n\u001b[32m   1122\u001b[39m \u001b[38;5;66;03m# GH 46891\u001b[39;00m\n\u001b[32m   1123\u001b[39m \u001b[38;5;28;01mif\u001b[39;00m num_inserted \u001b[38;5;129;01mis\u001b[39;00m \u001b[38;5;129;01mnot\u001b[39;00m \u001b[38;5;28;01mNone\u001b[39;00m:\n",
      "\u001b[36mFile \u001b[39m\u001b[32m~/Desktop/Smart Hotl reservation System/hotel_booking_pipeline/venv/lib/python3.12/site-packages/pandas/io/sql.py:1012\u001b[39m, in \u001b[36mSQLTable._execute_insert\u001b[39m\u001b[34m(self, conn, keys, data_iter)\u001b[39m\n\u001b[32m   1000\u001b[39m \u001b[38;5;250m\u001b[39m\u001b[33;03m\"\"\"\u001b[39;00m\n\u001b[32m   1001\u001b[39m \u001b[33;03mExecute SQL statement inserting data\u001b[39;00m\n\u001b[32m   1002\u001b[39m \n\u001b[32m   (...)\u001b[39m\u001b[32m   1009\u001b[39m \u001b[33;03m   Each item contains a list of values to be inserted\u001b[39;00m\n\u001b[32m   1010\u001b[39m \u001b[33;03m\"\"\"\u001b[39;00m\n\u001b[32m   1011\u001b[39m data = [\u001b[38;5;28mdict\u001b[39m(\u001b[38;5;28mzip\u001b[39m(keys, row)) \u001b[38;5;28;01mfor\u001b[39;00m row \u001b[38;5;129;01min\u001b[39;00m data_iter]\n\u001b[32m-> \u001b[39m\u001b[32m1012\u001b[39m result = \u001b[43mconn\u001b[49m\u001b[43m.\u001b[49m\u001b[43mexecute\u001b[49m\u001b[43m(\u001b[49m\u001b[38;5;28;43mself\u001b[39;49m\u001b[43m.\u001b[49m\u001b[43mtable\u001b[49m\u001b[43m.\u001b[49m\u001b[43minsert\u001b[49m\u001b[43m(\u001b[49m\u001b[43m)\u001b[49m\u001b[43m,\u001b[49m\u001b[43m \u001b[49m\u001b[43mdata\u001b[49m\u001b[43m)\u001b[49m\n\u001b[32m   1013\u001b[39m \u001b[38;5;28;01mreturn\u001b[39;00m result.rowcount\n",
      "\u001b[36mFile \u001b[39m\u001b[32m~/Desktop/Smart Hotl reservation System/hotel_booking_pipeline/venv/lib/python3.12/site-packages/sqlalchemy/engine/base.py:1419\u001b[39m, in \u001b[36mConnection.execute\u001b[39m\u001b[34m(self, statement, parameters, execution_options)\u001b[39m\n\u001b[32m   1417\u001b[39m     \u001b[38;5;28;01mraise\u001b[39;00m exc.ObjectNotExecutableError(statement) \u001b[38;5;28;01mfrom\u001b[39;00m\u001b[38;5;250m \u001b[39m\u001b[34;01merr\u001b[39;00m\n\u001b[32m   1418\u001b[39m \u001b[38;5;28;01melse\u001b[39;00m:\n\u001b[32m-> \u001b[39m\u001b[32m1419\u001b[39m     \u001b[38;5;28;01mreturn\u001b[39;00m \u001b[43mmeth\u001b[49m\u001b[43m(\u001b[49m\n\u001b[32m   1420\u001b[39m \u001b[43m        \u001b[49m\u001b[38;5;28;43mself\u001b[39;49m\u001b[43m,\u001b[49m\n\u001b[32m   1421\u001b[39m \u001b[43m        \u001b[49m\u001b[43mdistilled_parameters\u001b[49m\u001b[43m,\u001b[49m\n\u001b[32m   1422\u001b[39m \u001b[43m        \u001b[49m\u001b[43mexecution_options\u001b[49m\u001b[43m \u001b[49m\u001b[38;5;129;43;01mor\u001b[39;49;00m\u001b[43m \u001b[49m\u001b[43mNO_OPTIONS\u001b[49m\u001b[43m,\u001b[49m\n\u001b[32m   1423\u001b[39m \u001b[43m    \u001b[49m\u001b[43m)\u001b[49m\n",
      "\u001b[36mFile \u001b[39m\u001b[32m~/Desktop/Smart Hotl reservation System/hotel_booking_pipeline/venv/lib/python3.12/site-packages/sqlalchemy/sql/elements.py:526\u001b[39m, in \u001b[36mClauseElement._execute_on_connection\u001b[39m\u001b[34m(self, connection, distilled_params, execution_options)\u001b[39m\n\u001b[32m    524\u001b[39m     \u001b[38;5;28;01mif\u001b[39;00m TYPE_CHECKING:\n\u001b[32m    525\u001b[39m         \u001b[38;5;28;01massert\u001b[39;00m \u001b[38;5;28misinstance\u001b[39m(\u001b[38;5;28mself\u001b[39m, Executable)\n\u001b[32m--> \u001b[39m\u001b[32m526\u001b[39m     \u001b[38;5;28;01mreturn\u001b[39;00m \u001b[43mconnection\u001b[49m\u001b[43m.\u001b[49m\u001b[43m_execute_clauseelement\u001b[49m\u001b[43m(\u001b[49m\n\u001b[32m    527\u001b[39m \u001b[43m        \u001b[49m\u001b[38;5;28;43mself\u001b[39;49m\u001b[43m,\u001b[49m\u001b[43m \u001b[49m\u001b[43mdistilled_params\u001b[49m\u001b[43m,\u001b[49m\u001b[43m \u001b[49m\u001b[43mexecution_options\u001b[49m\n\u001b[32m    528\u001b[39m \u001b[43m    \u001b[49m\u001b[43m)\u001b[49m\n\u001b[32m    529\u001b[39m \u001b[38;5;28;01melse\u001b[39;00m:\n\u001b[32m    530\u001b[39m     \u001b[38;5;28;01mraise\u001b[39;00m exc.ObjectNotExecutableError(\u001b[38;5;28mself\u001b[39m)\n",
      "\u001b[36mFile \u001b[39m\u001b[32m~/Desktop/Smart Hotl reservation System/hotel_booking_pipeline/venv/lib/python3.12/site-packages/sqlalchemy/engine/base.py:1641\u001b[39m, in \u001b[36mConnection._execute_clauseelement\u001b[39m\u001b[34m(self, elem, distilled_parameters, execution_options)\u001b[39m\n\u001b[32m   1629\u001b[39m compiled_cache: Optional[CompiledCacheType] = execution_options.get(\n\u001b[32m   1630\u001b[39m     \u001b[33m\"\u001b[39m\u001b[33mcompiled_cache\u001b[39m\u001b[33m\"\u001b[39m, \u001b[38;5;28mself\u001b[39m.engine._compiled_cache\n\u001b[32m   1631\u001b[39m )\n\u001b[32m   1633\u001b[39m compiled_sql, extracted_params, cache_hit = elem._compile_w_cache(\n\u001b[32m   1634\u001b[39m     dialect=dialect,\n\u001b[32m   1635\u001b[39m     compiled_cache=compiled_cache,\n\u001b[32m   (...)\u001b[39m\u001b[32m   1639\u001b[39m     linting=\u001b[38;5;28mself\u001b[39m.dialect.compiler_linting | compiler.WARN_LINTING,\n\u001b[32m   1640\u001b[39m )\n\u001b[32m-> \u001b[39m\u001b[32m1641\u001b[39m ret = \u001b[38;5;28;43mself\u001b[39;49m\u001b[43m.\u001b[49m\u001b[43m_execute_context\u001b[49m\u001b[43m(\u001b[49m\n\u001b[32m   1642\u001b[39m \u001b[43m    \u001b[49m\u001b[43mdialect\u001b[49m\u001b[43m,\u001b[49m\n\u001b[32m   1643\u001b[39m \u001b[43m    \u001b[49m\u001b[43mdialect\u001b[49m\u001b[43m.\u001b[49m\u001b[43mexecution_ctx_cls\u001b[49m\u001b[43m.\u001b[49m\u001b[43m_init_compiled\u001b[49m\u001b[43m,\u001b[49m\n\u001b[32m   1644\u001b[39m \u001b[43m    \u001b[49m\u001b[43mcompiled_sql\u001b[49m\u001b[43m,\u001b[49m\n\u001b[32m   1645\u001b[39m \u001b[43m    \u001b[49m\u001b[43mdistilled_parameters\u001b[49m\u001b[43m,\u001b[49m\n\u001b[32m   1646\u001b[39m \u001b[43m    \u001b[49m\u001b[43mexecution_options\u001b[49m\u001b[43m,\u001b[49m\n\u001b[32m   1647\u001b[39m \u001b[43m    \u001b[49m\u001b[43mcompiled_sql\u001b[49m\u001b[43m,\u001b[49m\n\u001b[32m   1648\u001b[39m \u001b[43m    \u001b[49m\u001b[43mdistilled_parameters\u001b[49m\u001b[43m,\u001b[49m\n\u001b[32m   1649\u001b[39m \u001b[43m    \u001b[49m\u001b[43melem\u001b[49m\u001b[43m,\u001b[49m\n\u001b[32m   1650\u001b[39m \u001b[43m    \u001b[49m\u001b[43mextracted_params\u001b[49m\u001b[43m,\u001b[49m\n\u001b[32m   1651\u001b[39m \u001b[43m    \u001b[49m\u001b[43mcache_hit\u001b[49m\u001b[43m=\u001b[49m\u001b[43mcache_hit\u001b[49m\u001b[43m,\u001b[49m\n\u001b[32m   1652\u001b[39m \u001b[43m\u001b[49m\u001b[43m)\u001b[49m\n\u001b[32m   1653\u001b[39m \u001b[38;5;28;01mif\u001b[39;00m has_events:\n\u001b[32m   1654\u001b[39m     \u001b[38;5;28mself\u001b[39m.dispatch.after_execute(\n\u001b[32m   1655\u001b[39m         \u001b[38;5;28mself\u001b[39m,\n\u001b[32m   1656\u001b[39m         elem,\n\u001b[32m   (...)\u001b[39m\u001b[32m   1660\u001b[39m         ret,\n\u001b[32m   1661\u001b[39m     )\n",
      "\u001b[36mFile \u001b[39m\u001b[32m~/Desktop/Smart Hotl reservation System/hotel_booking_pipeline/venv/lib/python3.12/site-packages/sqlalchemy/engine/base.py:1844\u001b[39m, in \u001b[36mConnection._execute_context\u001b[39m\u001b[34m(self, dialect, constructor, statement, parameters, execution_options, *args, **kw)\u001b[39m\n\u001b[32m   1841\u001b[39m context.pre_exec()\n\u001b[32m   1843\u001b[39m \u001b[38;5;28;01mif\u001b[39;00m context.execute_style \u001b[38;5;129;01mis\u001b[39;00m ExecuteStyle.INSERTMANYVALUES:\n\u001b[32m-> \u001b[39m\u001b[32m1844\u001b[39m     \u001b[38;5;28;01mreturn\u001b[39;00m \u001b[38;5;28;43mself\u001b[39;49m\u001b[43m.\u001b[49m\u001b[43m_exec_insertmany_context\u001b[49m\u001b[43m(\u001b[49m\u001b[43mdialect\u001b[49m\u001b[43m,\u001b[49m\u001b[43m \u001b[49m\u001b[43mcontext\u001b[49m\u001b[43m)\u001b[49m\n\u001b[32m   1845\u001b[39m \u001b[38;5;28;01melse\u001b[39;00m:\n\u001b[32m   1846\u001b[39m     \u001b[38;5;28;01mreturn\u001b[39;00m \u001b[38;5;28mself\u001b[39m._exec_single_context(\n\u001b[32m   1847\u001b[39m         dialect, context, statement, parameters\n\u001b[32m   1848\u001b[39m     )\n",
      "\u001b[36mFile \u001b[39m\u001b[32m~/Desktop/Smart Hotl reservation System/hotel_booking_pipeline/venv/lib/python3.12/site-packages/sqlalchemy/engine/base.py:2126\u001b[39m, in \u001b[36mConnection._exec_insertmany_context\u001b[39m\u001b[34m(self, dialect, context)\u001b[39m\n\u001b[32m   2118\u001b[39m         dialect.do_execute(\n\u001b[32m   2119\u001b[39m             cursor,\n\u001b[32m   2120\u001b[39m             sub_stmt,\n\u001b[32m   2121\u001b[39m             sub_params,\n\u001b[32m   2122\u001b[39m             context,\n\u001b[32m   2123\u001b[39m         )\n\u001b[32m   2125\u001b[39m \u001b[38;5;28;01mexcept\u001b[39;00m \u001b[38;5;167;01mBaseException\u001b[39;00m \u001b[38;5;28;01mas\u001b[39;00m e:\n\u001b[32m-> \u001b[39m\u001b[32m2126\u001b[39m     \u001b[38;5;28;43mself\u001b[39;49m\u001b[43m.\u001b[49m\u001b[43m_handle_dbapi_exception\u001b[49m\u001b[43m(\u001b[49m\n\u001b[32m   2127\u001b[39m \u001b[43m        \u001b[49m\u001b[43me\u001b[49m\u001b[43m,\u001b[49m\n\u001b[32m   2128\u001b[39m \u001b[43m        \u001b[49m\u001b[43msql_util\u001b[49m\u001b[43m.\u001b[49m\u001b[43m_long_statement\u001b[49m\u001b[43m(\u001b[49m\u001b[43msub_stmt\u001b[49m\u001b[43m)\u001b[49m\u001b[43m,\u001b[49m\n\u001b[32m   2129\u001b[39m \u001b[43m        \u001b[49m\u001b[43msub_params\u001b[49m\u001b[43m,\u001b[49m\n\u001b[32m   2130\u001b[39m \u001b[43m        \u001b[49m\u001b[43mcursor\u001b[49m\u001b[43m,\u001b[49m\n\u001b[32m   2131\u001b[39m \u001b[43m        \u001b[49m\u001b[43mcontext\u001b[49m\u001b[43m,\u001b[49m\n\u001b[32m   2132\u001b[39m \u001b[43m        \u001b[49m\u001b[43mis_sub_exec\u001b[49m\u001b[43m=\u001b[49m\u001b[38;5;28;43;01mTrue\u001b[39;49;00m\u001b[43m,\u001b[49m\n\u001b[32m   2133\u001b[39m \u001b[43m    \u001b[49m\u001b[43m)\u001b[49m\n\u001b[32m   2135\u001b[39m \u001b[38;5;28;01mif\u001b[39;00m engine_events:\n\u001b[32m   2136\u001b[39m     \u001b[38;5;28mself\u001b[39m.dispatch.after_cursor_execute(\n\u001b[32m   2137\u001b[39m         \u001b[38;5;28mself\u001b[39m,\n\u001b[32m   2138\u001b[39m         cursor,\n\u001b[32m   (...)\u001b[39m\u001b[32m   2142\u001b[39m         context.executemany,\n\u001b[32m   2143\u001b[39m     )\n",
      "\u001b[36mFile \u001b[39m\u001b[32m~/Desktop/Smart Hotl reservation System/hotel_booking_pipeline/venv/lib/python3.12/site-packages/sqlalchemy/engine/base.py:2355\u001b[39m, in \u001b[36mConnection._handle_dbapi_exception\u001b[39m\u001b[34m(self, e, statement, parameters, cursor, context, is_sub_exec)\u001b[39m\n\u001b[32m   2353\u001b[39m \u001b[38;5;28;01melif\u001b[39;00m should_wrap:\n\u001b[32m   2354\u001b[39m     \u001b[38;5;28;01massert\u001b[39;00m sqlalchemy_exception \u001b[38;5;129;01mis\u001b[39;00m \u001b[38;5;129;01mnot\u001b[39;00m \u001b[38;5;28;01mNone\u001b[39;00m\n\u001b[32m-> \u001b[39m\u001b[32m2355\u001b[39m     \u001b[38;5;28;01mraise\u001b[39;00m sqlalchemy_exception.with_traceback(exc_info[\u001b[32m2\u001b[39m]) \u001b[38;5;28;01mfrom\u001b[39;00m\u001b[38;5;250m \u001b[39m\u001b[34;01me\u001b[39;00m\n\u001b[32m   2356\u001b[39m \u001b[38;5;28;01melse\u001b[39;00m:\n\u001b[32m   2357\u001b[39m     \u001b[38;5;28;01massert\u001b[39;00m exc_info[\u001b[32m1\u001b[39m] \u001b[38;5;129;01mis\u001b[39;00m \u001b[38;5;129;01mnot\u001b[39;00m \u001b[38;5;28;01mNone\u001b[39;00m\n",
      "\u001b[36mFile \u001b[39m\u001b[32m~/Desktop/Smart Hotl reservation System/hotel_booking_pipeline/venv/lib/python3.12/site-packages/sqlalchemy/engine/base.py:2118\u001b[39m, in \u001b[36mConnection._exec_insertmany_context\u001b[39m\u001b[34m(self, dialect, context)\u001b[39m\n\u001b[32m   2116\u001b[39m             \u001b[38;5;28;01mbreak\u001b[39;00m\n\u001b[32m   2117\u001b[39m     \u001b[38;5;28;01melse\u001b[39;00m:\n\u001b[32m-> \u001b[39m\u001b[32m2118\u001b[39m         \u001b[43mdialect\u001b[49m\u001b[43m.\u001b[49m\u001b[43mdo_execute\u001b[49m\u001b[43m(\u001b[49m\n\u001b[32m   2119\u001b[39m \u001b[43m            \u001b[49m\u001b[43mcursor\u001b[49m\u001b[43m,\u001b[49m\n\u001b[32m   2120\u001b[39m \u001b[43m            \u001b[49m\u001b[43msub_stmt\u001b[49m\u001b[43m,\u001b[49m\n\u001b[32m   2121\u001b[39m \u001b[43m            \u001b[49m\u001b[43msub_params\u001b[49m\u001b[43m,\u001b[49m\n\u001b[32m   2122\u001b[39m \u001b[43m            \u001b[49m\u001b[43mcontext\u001b[49m\u001b[43m,\u001b[49m\n\u001b[32m   2123\u001b[39m \u001b[43m        \u001b[49m\u001b[43m)\u001b[49m\n\u001b[32m   2125\u001b[39m \u001b[38;5;28;01mexcept\u001b[39;00m \u001b[38;5;167;01mBaseException\u001b[39;00m \u001b[38;5;28;01mas\u001b[39;00m e:\n\u001b[32m   2126\u001b[39m     \u001b[38;5;28mself\u001b[39m._handle_dbapi_exception(\n\u001b[32m   2127\u001b[39m         e,\n\u001b[32m   2128\u001b[39m         sql_util._long_statement(sub_stmt),\n\u001b[32m   (...)\u001b[39m\u001b[32m   2132\u001b[39m         is_sub_exec=\u001b[38;5;28;01mTrue\u001b[39;00m,\n\u001b[32m   2133\u001b[39m     )\n",
      "\u001b[36mFile \u001b[39m\u001b[32m~/Desktop/Smart Hotl reservation System/hotel_booking_pipeline/venv/lib/python3.12/site-packages/sqlalchemy/engine/default.py:951\u001b[39m, in \u001b[36mDefaultDialect.do_execute\u001b[39m\u001b[34m(self, cursor, statement, parameters, context)\u001b[39m\n\u001b[32m    950\u001b[39m \u001b[38;5;28;01mdef\u001b[39;00m\u001b[38;5;250m \u001b[39m\u001b[34mdo_execute\u001b[39m(\u001b[38;5;28mself\u001b[39m, cursor, statement, parameters, context=\u001b[38;5;28;01mNone\u001b[39;00m):\n\u001b[32m--> \u001b[39m\u001b[32m951\u001b[39m     \u001b[43mcursor\u001b[49m\u001b[43m.\u001b[49m\u001b[43mexecute\u001b[49m\u001b[43m(\u001b[49m\u001b[43mstatement\u001b[49m\u001b[43m,\u001b[49m\u001b[43m \u001b[49m\u001b[43mparameters\u001b[49m\u001b[43m)\u001b[49m\n",
      "\u001b[31mProgrammingError\u001b[39m: (psycopg2.errors.UndefinedColumn) column \"Booking_ID\" of relation \"hotel_reservations\" does not exist\nLINE 1: INSERT INTO hotel_reservations (\"Booking_ID\", no_of_adults, ...\n                                        ^\n\n[SQL: INSERT INTO hotel_reservations (\"Booking_ID\", no_of_adults, no_of_children, no_of_weekend_nights, no_of_week_nights, type_of_meal_plan, required_car_parking_space, room_type_reserved, lead_time, arrival_year, arrival_month, arrival_date, market_segme ... 539968 characters truncated ... celed__999)s, %(avg_price_per_room__999)s, %(no_of_special_requests__999)s, %(booking_status__999)s)]\n[parameters: {'type_of_meal_plan__0': 'Meal Plan 1', 'no_of_children__0': 0, 'no_of_previous_cancellations__0': 0, 'room_type_reserved__0': 'Room_Type 1', 'market_segment_type__0': 'Offline', 'arrival_month__0': 10, 'no_of_adults__0': 2, 'repeated_guest__0': 0, 'no_of_previous_bookings_not_canceled__0': 0, 'no_of_weekend_nights__0': 1, 'arrival_date__0': 2, 'no_of_week_nights__0': 2, 'Booking_ID__0': 'INN00001', 'avg_price_per_room__0': 65.0, 'required_car_parking_space__0': 0, 'arrival_year__0': 2017, 'booking_status__0': 'Not_Canceled', 'no_of_special_requests__0': 0, 'lead_time__0': 224, 'type_of_meal_plan__1': 'Not Selected', 'no_of_children__1': 0, 'no_of_previous_cancellations__1': 0, 'room_type_reserved__1': 'Room_Type 1', 'market_segment_type__1': 'Online', 'arrival_month__1': 11, 'no_of_adults__1': 2, 'repeated_guest__1': 0, 'no_of_previous_bookings_not_canceled__1': 0, 'no_of_weekend_nights__1': 2, 'arrival_date__1': 6, 'no_of_week_nights__1': 3, 'Booking_ID__1': 'INN00002', 'avg_price_per_room__1': 106.68, 'required_car_parking_space__1': 0, 'arrival_year__1': 2018, 'booking_status__1': 'Not_Canceled', 'no_of_special_requests__1': 1, 'lead_time__1': 5, 'type_of_meal_plan__2': 'Meal Plan 1', 'no_of_children__2': 0, 'no_of_previous_cancellations__2': 0, 'room_type_reserved__2': 'Room_Type 1', 'market_segment_type__2': 'Online', 'arrival_month__2': 2, 'no_of_adults__2': 1, 'repeated_guest__2': 0, 'no_of_previous_bookings_not_canceled__2': 0, 'no_of_weekend_nights__2': 2, 'arrival_date__2': 28, 'no_of_week_nights__2': 1 ... 18900 parameters truncated ... 'repeated_guest__997': 0, 'no_of_previous_bookings_not_canceled__997': 0, 'no_of_weekend_nights__997': 0, 'arrival_date__997': 22, 'no_of_week_nights__997': 1, 'Booking_ID__997': 'INN00998', 'avg_price_per_room__997': 86.4, 'required_car_parking_space__997': 0, 'arrival_year__997': 2018, 'booking_status__997': 'Not_Canceled', 'no_of_special_requests__997': 1, 'lead_time__997': 79, 'type_of_meal_plan__998': 'Not Selected', 'no_of_children__998': 0, 'no_of_previous_cancellations__998': 0, 'room_type_reserved__998': 'Room_Type 1', 'market_segment_type__998': 'Online', 'arrival_month__998': 9, 'no_of_adults__998': 2, 'repeated_guest__998': 0, 'no_of_previous_bookings_not_canceled__998': 0, 'no_of_weekend_nights__998': 2, 'arrival_date__998': 19, 'no_of_week_nights__998': 3, 'Booking_ID__998': 'INN00999', 'avg_price_per_room__998': 66.53, 'required_car_parking_space__998': 0, 'arrival_year__998': 2017, 'booking_status__998': 'Not_Canceled', 'no_of_special_requests__998': 1, 'lead_time__998': 57, 'type_of_meal_plan__999': 'Meal Plan 1', 'no_of_children__999': 0, 'no_of_previous_cancellations__999': 0, 'room_type_reserved__999': 'Room_Type 1', 'market_segment_type__999': 'Online', 'arrival_month__999': 1, 'no_of_adults__999': 2, 'repeated_guest__999': 0, 'no_of_previous_bookings_not_canceled__999': 0, 'no_of_weekend_nights__999': 2, 'arrival_date__999': 8, 'no_of_week_nights__999': 5, 'Booking_ID__999': 'INN01000', 'avg_price_per_room__999': 79.54, 'required_car_parking_space__999': 0, 'arrival_year__999': 2018, 'booking_status__999': 'Not_Canceled', 'no_of_special_requests__999': 1, 'lead_time__999': 29}]\n(Background on this error at: https://sqlalche.me/e/20/f405)"
     ]
    }
   ],
   "source": [
    "import pandas as pd\n",
    "from sqlalchemy import create_engine\n",
    "from urllib.parse import quote_plus\n",
    "\n",
    "username = \"hotel_admin\"\n",
    "password = quote_plus(\"P@$$w0rd\")  # هيهندل الرموز الخاصة\n",
    "database = \"hotel_booking_db\"\n",
    "host = \"localhost\"\n",
    "\n",
    "engine = create_engine(f\"postgresql+psycopg2://{username}:{password}@{host}/{database}\")\n",
    "\n",
    "\n",
    "\n",
    "csv_file = \"/home/mohamed/Desktop/Smart Hotl reservation System/hotel_booking_pipeline/data/Hotel Reservations.csv\"\n",
    "df = pd.read_csv(csv_file)\n",
    "\n",
    "df.to_sql(\"hotel_reservations\", con=engine, if_exists=\"append\", index=False)\n",
    "print(\"✅ Data inserted successfully!\")\n"
   ]
  },
  {
   "cell_type": "code",
   "execution_count": 25,
   "id": "8ca1a13c",
   "metadata": {},
   "outputs": [
    {
     "name": "stdout",
     "output_type": "stream",
     "text": [
      "(36275,)\n"
     ]
    }
   ],
   "source": [
    "from sqlalchemy import create_engine\n",
    "from urllib.parse import quote_plus\n",
    "from sqlalchemy import create_engine, text\n",
    "\n",
    "username = \"hotel_admin\"\n",
    "password = quote_plus(\"P@$$w0rd\")  # هيهندل الرموز الخاصة\n",
    "database = \"hotel_booking_db\"\n",
    "host = \"localhost\"\n",
    "\n",
    "engine = create_engine(f\"postgresql+psycopg2://{username}:{password}@{host}/{database}\")\n",
    "\n",
    "\n",
    "\n",
    "with engine.connect() as conn:\n",
    "    result = conn.execute(text(\"SELECT COUNT(*) FROM hotel_reservations;\"))\n",
    "    print(result.fetchone())\n"
   ]
  },
  {
   "cell_type": "code",
   "execution_count": 27,
   "id": "764b536c",
   "metadata": {},
   "outputs": [
    {
     "name": "stdout",
     "output_type": "stream",
     "text": [
      "  booking_id  no_of_adults  no_of_children  no_of_weekend_nights  \\\n",
      "0   INN00001             2               0                     1   \n",
      "1   INN00002             2               0                     2   \n",
      "2   INN00003             1               0                     2   \n",
      "3   INN00004             2               0                     0   \n",
      "4   INN00005             2               0                     1   \n",
      "\n",
      "   no_of_week_nights type_of_meal_plan  required_car_parking_space  \\\n",
      "0                  2       Meal Plan 1                           0   \n",
      "1                  3      Not Selected                           0   \n",
      "2                  1       Meal Plan 1                           0   \n",
      "3                  2       Meal Plan 1                           0   \n",
      "4                  1      Not Selected                           0   \n",
      "\n",
      "  room_type_reserved  lead_time  arrival_year  arrival_month  arrival_date  \\\n",
      "0        Room_Type 1        224          2017             10             2   \n",
      "1        Room_Type 1          5          2018             11             6   \n",
      "2        Room_Type 1          1          2018              2            28   \n",
      "3        Room_Type 1        211          2018              5            20   \n",
      "4        Room_Type 1         48          2018              4            11   \n",
      "\n",
      "  market_segment_type  repeated_guest  no_of_previous_cancellations  \\\n",
      "0             Offline               0                             0   \n",
      "1              Online               0                             0   \n",
      "2              Online               0                             0   \n",
      "3              Online               0                             0   \n",
      "4              Online               0                             0   \n",
      "\n",
      "   no_of_previous_bookings_not_canceled  avg_price_per_room  \\\n",
      "0                                     0               65.00   \n",
      "1                                     0              106.68   \n",
      "2                                     0               60.00   \n",
      "3                                     0              100.00   \n",
      "4                                     0               94.50   \n",
      "\n",
      "   no_of_special_requests booking_status  \n",
      "0                       0   Not_Canceled  \n",
      "1                       1   Not_Canceled  \n",
      "2                       0       Canceled  \n",
      "3                       0       Canceled  \n",
      "4                       0       Canceled  \n"
     ]
    }
   ],
   "source": [
    "import pandas as pd\n",
    "from sqlalchemy import create_engine\n",
    "from urllib.parse import quote_plus\n",
    "from sqlalchemy import create_engine, text\n",
    "\n",
    "username = \"hotel_admin\"\n",
    "password = quote_plus(\"P@$$w0rd\")  # هيهندل الرموز الخاصة\n",
    "database = \"hotel_booking_db\"\n",
    "host = \"localhost\"\n",
    "\n",
    "engine = create_engine(f\"postgresql+psycopg2://{username}:{password}@{host}/{database}\")\n",
    "\n",
    "# إنشاء engine\n",
    "\n",
    "# قراءة الجدول بالكامل (لو كبير ممكن تحدد LIMIT)\n",
    "df = pd.read_sql(\"SELECT * FROM hotel_reservations LIMIT 1000;\", engine)\n",
    "\n",
    "# عرض أول 5 صفوف\n",
    "print(df.head())\n"
   ]
  },
  {
   "cell_type": "code",
   "execution_count": 34,
   "id": "6c3121bb",
   "metadata": {},
   "outputs": [
    {
     "data": {
      "text/plain": [
       "1000"
      ]
     },
     "execution_count": 34,
     "metadata": {},
     "output_type": "execute_result"
    }
   ],
   "source": [
    "from sqlalchemy import create_engine\n",
    "from urllib.parse import quote_plus\n",
    "from sqlalchemy import create_engine, text\n",
    "\n",
    "username = \"hotel_admin\"\n",
    "password = quote_plus(\"P@$$w0rd\")  # هيهندل الرموز الخاصة\n",
    "database = \"hotel_booking_db\"\n",
    "host = \"localhost\"\n",
    "port=\"5432\"\n",
    "engine = create_engine(f\"postgresql+psycopg2://{username}:{password}@{host}:{port}/{database}\")\n",
    "\n",
    "# رفع البيانات\n",
    "df.to_sql(\"hotel_reservations\", con=engine, if_exists=\"append\", index=False)\n"
   ]
  },
  {
   "cell_type": "code",
   "execution_count": 39,
   "id": "a2007b29",
   "metadata": {},
   "outputs": [
    {
     "ename": "OperationalError",
     "evalue": "connection to server at \"localhost\" (127.0.0.1), port 5432 failed: FATAL:  password authentication failed for user \"hotel_admin\"\nconnection to server at \"localhost\" (127.0.0.1), port 5432 failed: FATAL:  password authentication failed for user \"hotel_admin\"\n",
     "output_type": "error",
     "traceback": [
      "\u001b[31m---------------------------------------------------------------------------\u001b[39m",
      "\u001b[31mOperationalError\u001b[39m                          Traceback (most recent call last)",
      "\u001b[36mCell\u001b[39m\u001b[36m \u001b[39m\u001b[32mIn[39]\u001b[39m\u001b[32m, line 11\u001b[39m\n\u001b[32m      8\u001b[39m host = \u001b[33m\"\u001b[39m\u001b[33mlocalhost\u001b[39m\u001b[33m\"\u001b[39m\n\u001b[32m      9\u001b[39m port=\u001b[33m\"\u001b[39m\u001b[33m5432\u001b[39m\u001b[33m\"\u001b[39m\n\u001b[32m---> \u001b[39m\u001b[32m11\u001b[39m conn = \u001b[43mpsycopg2\u001b[49m\u001b[43m.\u001b[49m\u001b[43mconnect\u001b[49m\u001b[43m(\u001b[49m\n\u001b[32m     12\u001b[39m \u001b[43m    \u001b[49m\u001b[43mdbname\u001b[49m\u001b[43m=\u001b[49m\u001b[43mdatabase\u001b[49m\u001b[43m,\u001b[49m\u001b[43m \u001b[49m\u001b[43muser\u001b[49m\u001b[43m=\u001b[49m\u001b[43musername\u001b[49m\u001b[43m,\u001b[49m\u001b[43m \u001b[49m\u001b[43mpassword\u001b[49m\u001b[43m=\u001b[49m\u001b[43mpassword\u001b[49m\u001b[43m,\u001b[49m\u001b[43m \u001b[49m\u001b[43mhost\u001b[49m\u001b[43m=\u001b[49m\u001b[43mhost\u001b[49m\u001b[43m,\u001b[49m\u001b[43m \u001b[49m\u001b[43mport\u001b[49m\u001b[43m=\u001b[49m\u001b[43mport\u001b[49m\n\u001b[32m     13\u001b[39m \u001b[43m)\u001b[49m\n\u001b[32m     14\u001b[39m cur = conn.cursor()\n\u001b[32m     15\u001b[39m cur.execute(\u001b[33m\"\u001b[39m\u001b[33mSELECT COUNT(*) FROM hotel_reservations;\u001b[39m\u001b[33m\"\u001b[39m)\n",
      "\u001b[36mFile \u001b[39m\u001b[32m~/Desktop/Smart Hotl reservation System/hotel_booking_pipeline/venv/lib/python3.12/site-packages/psycopg2/__init__.py:122\u001b[39m, in \u001b[36mconnect\u001b[39m\u001b[34m(dsn, connection_factory, cursor_factory, **kwargs)\u001b[39m\n\u001b[32m    119\u001b[39m     kwasync[\u001b[33m'\u001b[39m\u001b[33masync_\u001b[39m\u001b[33m'\u001b[39m] = kwargs.pop(\u001b[33m'\u001b[39m\u001b[33masync_\u001b[39m\u001b[33m'\u001b[39m)\n\u001b[32m    121\u001b[39m dsn = _ext.make_dsn(dsn, **kwargs)\n\u001b[32m--> \u001b[39m\u001b[32m122\u001b[39m conn = \u001b[43m_connect\u001b[49m\u001b[43m(\u001b[49m\u001b[43mdsn\u001b[49m\u001b[43m,\u001b[49m\u001b[43m \u001b[49m\u001b[43mconnection_factory\u001b[49m\u001b[43m=\u001b[49m\u001b[43mconnection_factory\u001b[49m\u001b[43m,\u001b[49m\u001b[43m \u001b[49m\u001b[43m*\u001b[49m\u001b[43m*\u001b[49m\u001b[43mkwasync\u001b[49m\u001b[43m)\u001b[49m\n\u001b[32m    123\u001b[39m \u001b[38;5;28;01mif\u001b[39;00m cursor_factory \u001b[38;5;129;01mis\u001b[39;00m \u001b[38;5;129;01mnot\u001b[39;00m \u001b[38;5;28;01mNone\u001b[39;00m:\n\u001b[32m    124\u001b[39m     conn.cursor_factory = cursor_factory\n",
      "\u001b[31mOperationalError\u001b[39m: connection to server at \"localhost\" (127.0.0.1), port 5432 failed: FATAL:  password authentication failed for user \"hotel_admin\"\nconnection to server at \"localhost\" (127.0.0.1), port 5432 failed: FATAL:  password authentication failed for user \"hotel_admin\"\n"
     ]
    }
   ],
   "source": [
    "from urllib.parse import quote_plus\n",
    "from sqlalchemy import create_engine, text\n",
    "import psycopg2\n",
    "\n",
    "username = \"hotel_admin\"\n",
    "password = quote_plus(\"P@$$w0rd\")  # هيهندل الرموز الخاصة\n",
    "database = \"hotel_booking_db\"\n",
    "host = \"localhost\"\n",
    "port=\"5432\"\n",
    "\n",
    "conn = psycopg2.connect(\n",
    "    dbname=database, user=username, password=password, host=host, port=port\n",
    ")\n",
    "cur = conn.cursor()\n",
    "cur.execute(\"SELECT COUNT(*) FROM hotel_reservations;\")\n",
    "print(cur.fetchone())\n",
    "\n"
   ]
  },
  {
   "cell_type": "code",
   "execution_count": 29,
   "id": "c3c432bf",
   "metadata": {},
   "outputs": [
    {
     "ename": "SyntaxError",
     "evalue": "invalid syntax (179645724.py, line 1)",
     "output_type": "error",
     "traceback": [
      "  \u001b[36mCell\u001b[39m\u001b[36m \u001b[39m\u001b[32mIn[29]\u001b[39m\u001b[32m, line 1\u001b[39m\n\u001b[31m    \u001b[39m\u001b[31mALTER TABLE users\u001b[39m\n          ^\n\u001b[31mSyntaxError\u001b[39m\u001b[31m:\u001b[39m invalid syntax\n"
     ]
    }
   ],
   "source": [
    "ALTER TABLE users \n",
    "ADD COLUMN ocr_document TEXT;\n"
   ]
  }
 ],
 "metadata": {
  "kernelspec": {
   "display_name": "venv",
   "language": "python",
   "name": "python3"
  },
  "language_info": {
   "codemirror_mode": {
    "name": "ipython",
    "version": 3
   },
   "file_extension": ".py",
   "mimetype": "text/x-python",
   "name": "python",
   "nbconvert_exporter": "python",
   "pygments_lexer": "ipython3",
   "version": "3.12.3"
  }
 },
 "nbformat": 4,
 "nbformat_minor": 5
}
